{
 "cells": [
  {
   "cell_type": "markdown",
   "id": "ccd2a9d9",
   "metadata": {},
   "source": [
    "# Super Resolution using Generative AI\n",
    "\n",
    "This notebook is a reiview of all the current methods that are used in super resolution of images. "
   ]
  },
  {
   "cell_type": "markdown",
   "id": "94f2e3f0",
   "metadata": {},
   "source": [
    "# Problem Statement\n",
    "\n",
    "Satellites that are launched into space travel around the earth in orbits. The spatial and temporal coverage of the satellite depends on the orbit. There are 3 basic types of orbits that these types of satellites use: \n",
    "\n",
    "- Geo-synchronous orbits\n",
    "- Polar or near polar orbits\n",
    "- Sun-synchronous orbits\n",
    "\n",
    "Satellite orbits are matched to capability and objective of the sensors they house. Selection of orbit can vary in terms of altitude, orientation and rotation relative to earth. \n",
    "\n",
    "### Swath\n",
    "Each satellite has its own swath. The swath of a satellite is the width of the area on the surface of the earth, which is imaged by the imaging payload during a single pass. \n",
    "\n",
    "<img src=\"swath.png\" width=480px alt=\"Satellite Swath\">\n",
    "\n",
    "While there are satellites that have resolutions as high as 0.30 metres per pixel, these satellites are commercial, which might not always be in the public domain, may be behind paywalls, access to these satellite's data is slow, as opposed to lower resolution satellites operated by the government, whose data is regularly updated, and the data is also free and in the public domain, so it is much better to upscale data that is publicly available and regularly updated. "
   ]
  },
  {
   "cell_type": "code",
   "execution_count": null,
   "id": "7894e6d3",
   "metadata": {},
   "outputs": [],
   "source": []
  },
  {
   "cell_type": "markdown",
   "id": "aa1002c7",
   "metadata": {},
   "source": [
    "## References\n",
    "\n",
    "[REMOTE SENSING SATELLITES AND ITS ORBITS](https://dspmuranchi.ac.in/pdf/Blog/REMOTE%20SENSING%20SATELLITES%20AND%20ITS%20ORBITS.pdf)"
   ]
  }
 ],
 "metadata": {
  "kernelspec": {
   "display_name": "Python 3 (ipykernel)",
   "language": "python",
   "name": "python3"
  },
  "language_info": {
   "codemirror_mode": {
    "name": "ipython",
    "version": 3
   },
   "file_extension": ".py",
   "mimetype": "text/x-python",
   "name": "python",
   "nbconvert_exporter": "python",
   "pygments_lexer": "ipython3",
   "version": "3.11.3"
  }
 },
 "nbformat": 4,
 "nbformat_minor": 5
}
